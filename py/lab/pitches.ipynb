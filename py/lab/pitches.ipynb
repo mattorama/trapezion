{
 "cells": [
  {
   "cell_type": "markdown",
   "metadata": {},
   "source": [
    "# Objective\n",
    "\n",
    "### Develop a classifier to predict pitch type suitable for returning predictions in real-time."
   ]
  },
  {
   "cell_type": "code",
   "execution_count": 1,
   "metadata": {},
   "outputs": [],
   "source": [
    "import itertools\n",
    "import warnings\n",
    "\n",
    "import matplotlib as mp\n",
    "import matplotlib.pyplot as plt\n",
    "import numpy as np\n",
    "import pandas as pd\n",
    "import sklearn as sk\n",
    "\n",
    "# helper methods for the notebook\n",
    "import classifier as cl\n",
    "\n",
    "warnings.filterwarnings('ignore')\n",
    "plt.style.use('ggplot')"
   ]
  },
  {
   "cell_type": "markdown",
   "metadata": {},
   "source": [
    "# Understanding the data and cleaning"
   ]
  },
  {
   "cell_type": "code",
   "execution_count": 2,
   "metadata": {},
   "outputs": [],
   "source": [
    "# load only meaningful features available at pitch time and target label\n",
    "uninformative_feature_set = set([\n",
    "    'uid', 'game_pk', 'year', 'start_tfs', 'start_tfs_zulu', 'pitch_id'])\n",
    "target_label = 'pitch_type'\n",
    "features_desc = cl.get_feature_set_descriptions(\n",
    "    uninformative_feature_set, target_label)"
   ]
  },
  {
   "cell_type": "markdown",
   "metadata": {},
   "source": [
    "### Peeking at the feature metadata, it looks like a good first pass would be to use only features available at the time of the pitch, and ignore seemingly uninformative identifiers"
   ]
  },
  {
   "cell_type": "code",
   "execution_count": 3,
   "metadata": {},
   "outputs": [],
   "source": [
    "train = pd.read_csv(\n",
    "    '../../data/pitches.csv',\n",
    "    usecols=features_desc.index, parse_dates=['date'])"
   ]
  },
  {
   "cell_type": "code",
   "execution_count": 4,
   "metadata": {},
   "outputs": [
    {
     "name": "stdout",
     "output_type": "stream",
     "text": [
      "(718961, 23)\n"
     ]
    },
    {
     "data": {
      "text/html": [
       "<div>\n",
       "<style scoped>\n",
       "    .dataframe tbody tr th:only-of-type {\n",
       "        vertical-align: middle;\n",
       "    }\n",
       "\n",
       "    .dataframe tbody tr th {\n",
       "        vertical-align: top;\n",
       "    }\n",
       "\n",
       "    .dataframe thead th {\n",
       "        text-align: right;\n",
       "    }\n",
       "</style>\n",
       "<table border=\"1\" class=\"dataframe\">\n",
       "  <thead>\n",
       "    <tr style=\"text-align: right;\">\n",
       "      <th></th>\n",
       "      <th>date</th>\n",
       "      <th>team_id_b</th>\n",
       "      <th>team_id_p</th>\n",
       "      <th>inning</th>\n",
       "      <th>top</th>\n",
       "      <th>at_bat_num</th>\n",
       "      <th>pcount_at_bat</th>\n",
       "      <th>pcount_pitcher</th>\n",
       "      <th>balls</th>\n",
       "      <th>strikes</th>\n",
       "      <th>...</th>\n",
       "      <th>stand</th>\n",
       "      <th>b_height</th>\n",
       "      <th>pitcher_id</th>\n",
       "      <th>p_throws</th>\n",
       "      <th>away_team_runs</th>\n",
       "      <th>home_team_runs</th>\n",
       "      <th>pitch_type</th>\n",
       "      <th>on_1b</th>\n",
       "      <th>on_2b</th>\n",
       "      <th>on_3b</th>\n",
       "    </tr>\n",
       "  </thead>\n",
       "  <tbody>\n",
       "    <tr>\n",
       "      <th>0</th>\n",
       "      <td>2011-03-31</td>\n",
       "      <td>108</td>\n",
       "      <td>118</td>\n",
       "      <td>1</td>\n",
       "      <td>1</td>\n",
       "      <td>1</td>\n",
       "      <td>1</td>\n",
       "      <td>1</td>\n",
       "      <td>0</td>\n",
       "      <td>0</td>\n",
       "      <td>...</td>\n",
       "      <td>L</td>\n",
       "      <td>5-8</td>\n",
       "      <td>460024</td>\n",
       "      <td>R</td>\n",
       "      <td>0</td>\n",
       "      <td>0</td>\n",
       "      <td>NaN</td>\n",
       "      <td>NaN</td>\n",
       "      <td>NaN</td>\n",
       "      <td>NaN</td>\n",
       "    </tr>\n",
       "    <tr>\n",
       "      <th>1</th>\n",
       "      <td>2011-03-31</td>\n",
       "      <td>108</td>\n",
       "      <td>118</td>\n",
       "      <td>1</td>\n",
       "      <td>1</td>\n",
       "      <td>1</td>\n",
       "      <td>2</td>\n",
       "      <td>2</td>\n",
       "      <td>1</td>\n",
       "      <td>0</td>\n",
       "      <td>...</td>\n",
       "      <td>L</td>\n",
       "      <td>5-8</td>\n",
       "      <td>460024</td>\n",
       "      <td>R</td>\n",
       "      <td>0</td>\n",
       "      <td>0</td>\n",
       "      <td>NaN</td>\n",
       "      <td>NaN</td>\n",
       "      <td>NaN</td>\n",
       "      <td>NaN</td>\n",
       "    </tr>\n",
       "    <tr>\n",
       "      <th>2</th>\n",
       "      <td>2011-03-31</td>\n",
       "      <td>108</td>\n",
       "      <td>118</td>\n",
       "      <td>1</td>\n",
       "      <td>1</td>\n",
       "      <td>1</td>\n",
       "      <td>3</td>\n",
       "      <td>3</td>\n",
       "      <td>2</td>\n",
       "      <td>0</td>\n",
       "      <td>...</td>\n",
       "      <td>L</td>\n",
       "      <td>5-8</td>\n",
       "      <td>460024</td>\n",
       "      <td>R</td>\n",
       "      <td>0</td>\n",
       "      <td>0</td>\n",
       "      <td>NaN</td>\n",
       "      <td>NaN</td>\n",
       "      <td>NaN</td>\n",
       "      <td>NaN</td>\n",
       "    </tr>\n",
       "    <tr>\n",
       "      <th>3</th>\n",
       "      <td>2011-03-31</td>\n",
       "      <td>108</td>\n",
       "      <td>118</td>\n",
       "      <td>1</td>\n",
       "      <td>1</td>\n",
       "      <td>1</td>\n",
       "      <td>4</td>\n",
       "      <td>4</td>\n",
       "      <td>2</td>\n",
       "      <td>1</td>\n",
       "      <td>...</td>\n",
       "      <td>L</td>\n",
       "      <td>5-8</td>\n",
       "      <td>460024</td>\n",
       "      <td>R</td>\n",
       "      <td>0</td>\n",
       "      <td>0</td>\n",
       "      <td>NaN</td>\n",
       "      <td>NaN</td>\n",
       "      <td>NaN</td>\n",
       "      <td>NaN</td>\n",
       "    </tr>\n",
       "    <tr>\n",
       "      <th>4</th>\n",
       "      <td>2011-03-31</td>\n",
       "      <td>108</td>\n",
       "      <td>118</td>\n",
       "      <td>1</td>\n",
       "      <td>1</td>\n",
       "      <td>2</td>\n",
       "      <td>1</td>\n",
       "      <td>5</td>\n",
       "      <td>0</td>\n",
       "      <td>0</td>\n",
       "      <td>...</td>\n",
       "      <td>R</td>\n",
       "      <td>5-10</td>\n",
       "      <td>460024</td>\n",
       "      <td>R</td>\n",
       "      <td>0</td>\n",
       "      <td>0</td>\n",
       "      <td>NaN</td>\n",
       "      <td>NaN</td>\n",
       "      <td>NaN</td>\n",
       "      <td>NaN</td>\n",
       "    </tr>\n",
       "  </tbody>\n",
       "</table>\n",
       "<p>5 rows × 23 columns</p>\n",
       "</div>"
      ],
      "text/plain": [
       "        date  team_id_b  team_id_p  inning  top  at_bat_num  pcount_at_bat  \\\n",
       "0 2011-03-31        108        118       1    1           1              1   \n",
       "1 2011-03-31        108        118       1    1           1              2   \n",
       "2 2011-03-31        108        118       1    1           1              3   \n",
       "3 2011-03-31        108        118       1    1           1              4   \n",
       "4 2011-03-31        108        118       1    1           2              1   \n",
       "\n",
       "   pcount_pitcher  balls  strikes  ...  stand  b_height  pitcher_id p_throws  \\\n",
       "0               1      0        0  ...      L       5-8      460024        R   \n",
       "1               2      1        0  ...      L       5-8      460024        R   \n",
       "2               3      2        0  ...      L       5-8      460024        R   \n",
       "3               4      2        1  ...      L       5-8      460024        R   \n",
       "4               5      0        0  ...      R      5-10      460024        R   \n",
       "\n",
       "  away_team_runs  home_team_runs pitch_type  on_1b  on_2b on_3b  \n",
       "0              0               0        NaN    NaN    NaN   NaN  \n",
       "1              0               0        NaN    NaN    NaN   NaN  \n",
       "2              0               0        NaN    NaN    NaN   NaN  \n",
       "3              0               0        NaN    NaN    NaN   NaN  \n",
       "4              0               0        NaN    NaN    NaN   NaN  \n",
       "\n",
       "[5 rows x 23 columns]"
      ]
     },
     "metadata": {},
     "output_type": "display_data"
    },
    {
     "data": {
      "text/plain": [
       "date              datetime64[ns]\n",
       "team_id_b                  int64\n",
       "team_id_p                  int64\n",
       "inning                     int64\n",
       "top                        int64\n",
       "at_bat_num                 int64\n",
       "pcount_at_bat              int64\n",
       "pcount_pitcher             int64\n",
       "balls                      int64\n",
       "strikes                    int64\n",
       "fouls                      int64\n",
       "outs                       int64\n",
       "batter_id                  int64\n",
       "stand                     object\n",
       "b_height                  object\n",
       "pitcher_id                 int64\n",
       "p_throws                  object\n",
       "away_team_runs             int64\n",
       "home_team_runs             int64\n",
       "pitch_type                object\n",
       "on_1b                    float64\n",
       "on_2b                    float64\n",
       "on_3b                    float64\n",
       "dtype: object"
      ]
     },
     "metadata": {},
     "output_type": "display_data"
    },
    {
     "data": {
      "text/plain": [
       "FF    238541\n",
       "SL    109756\n",
       "SI     87740\n",
       "FT     81056\n",
       "CH     72641\n",
       "CU     56379\n",
       "FC     41702\n",
       "FS     10503\n",
       "KC      8490\n",
       "KN      4450\n",
       "IN      4058\n",
       "PO       559\n",
       "FO       329\n",
       "FA       204\n",
       "EP       134\n",
       "SC       120\n",
       "UN        17\n",
       "AB         2\n",
       "Name: pitch_type, dtype: int64"
      ]
     },
     "metadata": {},
     "output_type": "display_data"
    },
    {
     "name": "stdout",
     "output_type": "stream",
     "text": [
      "missing label count is 2280\n"
     ]
    }
   ],
   "source": [
    "print(train.shape)\n",
    "display(train.head())\n",
    "display(train.dtypes)\n",
    "display(train.pitch_type.value_counts())\n",
    "print(f'missing label count is {train.shape[0] - train.pitch_type.value_counts().sum()}')"
   ]
  },
  {
   "cell_type": "markdown",
   "metadata": {},
   "source": [
    "### The raw read has misinterpreted some features as numeric when they should be categories, which should be fixed.\n",
    "\n",
    "### The output classes are heavily imbalanced, and I think a benchmark will perform at about 30% accuracy just predicting pitch_type='FF'"
   ]
  },
  {
   "cell_type": "code",
   "execution_count": 5,
   "metadata": {},
   "outputs": [],
   "source": [
    "numerical_features = [\n",
    "    'at_bat_num', 'away_team_runs', 'b_height', 'balls', 'fouls',\n",
    "    'home_team_runs', 'inning', 'outs', 'pcount_at_bat',\n",
    "    'pcount_pitcher', 'strikes', 'top']\n",
    "float_to_int_features = ['on_1b', 'on_2b', 'on_3b']\n",
    "categorical_features = [\n",
    "    'batter_id', 'on_1b', 'on_2b', 'on_3b', 'pitcher_id',\n",
    "    'p_throws', 'stand', 'team_id_b', 'team_id_p']\n",
    "target_label = 'pitch_type'\n",
    "feature_type_map = {\n",
    "    'categorical': categorical_features, \n",
    "    'numerical': numerical_features,\n",
    "    'float_to_int': float_to_int_features,\n",
    "    'target': target_label}"
   ]
  },
  {
   "cell_type": "code",
   "execution_count": 6,
   "metadata": {},
   "outputs": [],
   "source": [
    "cl.clean_pitches(train, feature_type_map)"
   ]
  },
  {
   "cell_type": "code",
   "execution_count": 7,
   "metadata": {},
   "outputs": [
    {
     "data": {
      "text/html": [
       "<div>\n",
       "<style scoped>\n",
       "    .dataframe tbody tr th:only-of-type {\n",
       "        vertical-align: middle;\n",
       "    }\n",
       "\n",
       "    .dataframe tbody tr th {\n",
       "        vertical-align: top;\n",
       "    }\n",
       "\n",
       "    .dataframe thead th {\n",
       "        text-align: right;\n",
       "    }\n",
       "</style>\n",
       "<table border=\"1\" class=\"dataframe\">\n",
       "  <thead>\n",
       "    <tr style=\"text-align: right;\">\n",
       "      <th></th>\n",
       "      <th>date</th>\n",
       "      <th>team_id_b</th>\n",
       "      <th>team_id_p</th>\n",
       "      <th>inning</th>\n",
       "      <th>top</th>\n",
       "      <th>at_bat_num</th>\n",
       "      <th>pcount_at_bat</th>\n",
       "      <th>pcount_pitcher</th>\n",
       "      <th>balls</th>\n",
       "      <th>strikes</th>\n",
       "      <th>...</th>\n",
       "      <th>stand</th>\n",
       "      <th>b_height</th>\n",
       "      <th>pitcher_id</th>\n",
       "      <th>p_throws</th>\n",
       "      <th>away_team_runs</th>\n",
       "      <th>home_team_runs</th>\n",
       "      <th>pitch_type</th>\n",
       "      <th>on_1b</th>\n",
       "      <th>on_2b</th>\n",
       "      <th>on_3b</th>\n",
       "    </tr>\n",
       "  </thead>\n",
       "  <tbody>\n",
       "    <tr>\n",
       "      <th>0</th>\n",
       "      <td>2011-03-31</td>\n",
       "      <td>108</td>\n",
       "      <td>118</td>\n",
       "      <td>1</td>\n",
       "      <td>1</td>\n",
       "      <td>1</td>\n",
       "      <td>1</td>\n",
       "      <td>1</td>\n",
       "      <td>0</td>\n",
       "      <td>0</td>\n",
       "      <td>...</td>\n",
       "      <td>L</td>\n",
       "      <td>21</td>\n",
       "      <td>460024</td>\n",
       "      <td>R</td>\n",
       "      <td>0</td>\n",
       "      <td>0</td>\n",
       "      <td>missing</td>\n",
       "      <td>0</td>\n",
       "      <td>0</td>\n",
       "      <td>0</td>\n",
       "    </tr>\n",
       "    <tr>\n",
       "      <th>1</th>\n",
       "      <td>2011-03-31</td>\n",
       "      <td>108</td>\n",
       "      <td>118</td>\n",
       "      <td>1</td>\n",
       "      <td>1</td>\n",
       "      <td>1</td>\n",
       "      <td>2</td>\n",
       "      <td>2</td>\n",
       "      <td>1</td>\n",
       "      <td>0</td>\n",
       "      <td>...</td>\n",
       "      <td>L</td>\n",
       "      <td>21</td>\n",
       "      <td>460024</td>\n",
       "      <td>R</td>\n",
       "      <td>0</td>\n",
       "      <td>0</td>\n",
       "      <td>missing</td>\n",
       "      <td>0</td>\n",
       "      <td>0</td>\n",
       "      <td>0</td>\n",
       "    </tr>\n",
       "    <tr>\n",
       "      <th>2</th>\n",
       "      <td>2011-03-31</td>\n",
       "      <td>108</td>\n",
       "      <td>118</td>\n",
       "      <td>1</td>\n",
       "      <td>1</td>\n",
       "      <td>1</td>\n",
       "      <td>3</td>\n",
       "      <td>3</td>\n",
       "      <td>2</td>\n",
       "      <td>0</td>\n",
       "      <td>...</td>\n",
       "      <td>L</td>\n",
       "      <td>21</td>\n",
       "      <td>460024</td>\n",
       "      <td>R</td>\n",
       "      <td>0</td>\n",
       "      <td>0</td>\n",
       "      <td>missing</td>\n",
       "      <td>0</td>\n",
       "      <td>0</td>\n",
       "      <td>0</td>\n",
       "    </tr>\n",
       "    <tr>\n",
       "      <th>3</th>\n",
       "      <td>2011-03-31</td>\n",
       "      <td>108</td>\n",
       "      <td>118</td>\n",
       "      <td>1</td>\n",
       "      <td>1</td>\n",
       "      <td>1</td>\n",
       "      <td>4</td>\n",
       "      <td>4</td>\n",
       "      <td>2</td>\n",
       "      <td>1</td>\n",
       "      <td>...</td>\n",
       "      <td>L</td>\n",
       "      <td>21</td>\n",
       "      <td>460024</td>\n",
       "      <td>R</td>\n",
       "      <td>0</td>\n",
       "      <td>0</td>\n",
       "      <td>missing</td>\n",
       "      <td>0</td>\n",
       "      <td>0</td>\n",
       "      <td>0</td>\n",
       "    </tr>\n",
       "    <tr>\n",
       "      <th>4</th>\n",
       "      <td>2011-03-31</td>\n",
       "      <td>108</td>\n",
       "      <td>118</td>\n",
       "      <td>1</td>\n",
       "      <td>1</td>\n",
       "      <td>2</td>\n",
       "      <td>1</td>\n",
       "      <td>5</td>\n",
       "      <td>0</td>\n",
       "      <td>0</td>\n",
       "      <td>...</td>\n",
       "      <td>R</td>\n",
       "      <td>26</td>\n",
       "      <td>460024</td>\n",
       "      <td>R</td>\n",
       "      <td>0</td>\n",
       "      <td>0</td>\n",
       "      <td>missing</td>\n",
       "      <td>0</td>\n",
       "      <td>0</td>\n",
       "      <td>0</td>\n",
       "    </tr>\n",
       "  </tbody>\n",
       "</table>\n",
       "<p>5 rows × 23 columns</p>\n",
       "</div>"
      ],
      "text/plain": [
       "        date team_id_b team_id_p  inning  top  at_bat_num  pcount_at_bat  \\\n",
       "0 2011-03-31       108       118       1    1           1              1   \n",
       "1 2011-03-31       108       118       1    1           1              2   \n",
       "2 2011-03-31       108       118       1    1           1              3   \n",
       "3 2011-03-31       108       118       1    1           1              4   \n",
       "4 2011-03-31       108       118       1    1           2              1   \n",
       "\n",
       "   pcount_pitcher  balls  strikes  ...  stand  b_height pitcher_id p_throws  \\\n",
       "0               1      0        0  ...      L        21     460024        R   \n",
       "1               2      1        0  ...      L        21     460024        R   \n",
       "2               3      2        0  ...      L        21     460024        R   \n",
       "3               4      2        1  ...      L        21     460024        R   \n",
       "4               5      0        0  ...      R        26     460024        R   \n",
       "\n",
       "   away_team_runs home_team_runs pitch_type  on_1b  on_2b on_3b  \n",
       "0               0              0    missing      0      0     0  \n",
       "1               0              0    missing      0      0     0  \n",
       "2               0              0    missing      0      0     0  \n",
       "3               0              0    missing      0      0     0  \n",
       "4               0              0    missing      0      0     0  \n",
       "\n",
       "[5 rows x 23 columns]"
      ]
     },
     "metadata": {},
     "output_type": "display_data"
    },
    {
     "data": {
      "text/plain": [
       "date              datetime64[ns]\n",
       "team_id_b               category\n",
       "team_id_p               category\n",
       "inning                     int64\n",
       "top                        int64\n",
       "at_bat_num                 int64\n",
       "pcount_at_bat              int64\n",
       "pcount_pitcher             int64\n",
       "balls                      int64\n",
       "strikes                    int64\n",
       "fouls                      int64\n",
       "outs                       int64\n",
       "batter_id               category\n",
       "stand                   category\n",
       "b_height                   int64\n",
       "pitcher_id              category\n",
       "p_throws                category\n",
       "away_team_runs             int64\n",
       "home_team_runs             int64\n",
       "pitch_type              category\n",
       "on_1b                   category\n",
       "on_2b                   category\n",
       "on_3b                   category\n",
       "dtype: object"
      ]
     },
     "metadata": {},
     "output_type": "display_data"
    },
    {
     "data": {
      "text/plain": [
       "0"
      ]
     },
     "execution_count": 7,
     "metadata": {},
     "output_type": "execute_result"
    }
   ],
   "source": [
    "display(train.head())\n",
    "display(train.dtypes)\n",
    "train.isnull().sum().sum()"
   ]
  },
  {
   "cell_type": "markdown",
   "metadata": {},
   "source": [
    "### The cleaned features use categorical with empty/NaN modeled as 'missing' and numerical with empty/NaN modeled as 0. There are nuances to 'missing' and 0 that are not entirely accurate but are good enough for now."
   ]
  },
  {
   "cell_type": "markdown",
   "metadata": {},
   "source": [
    "# Transforming the data for modeling"
   ]
  },
  {
   "cell_type": "code",
   "execution_count": 8,
   "metadata": {},
   "outputs": [],
   "source": [
    "# split the training data for testing by the date at which 80% of pitches are thrown\n",
    "X_calval, X_holdout, y_calval, y_holdout = cl.serial_calval_holdout_split(train)"
   ]
  },
  {
   "cell_type": "markdown",
   "metadata": {},
   "source": [
    "### I split the data by date to guard against data leakage for the holdout data set"
   ]
  },
  {
   "cell_type": "code",
   "execution_count": 9,
   "metadata": {},
   "outputs": [
    {
     "data": {
      "text/plain": [
       "(574882, 21)"
      ]
     },
     "metadata": {},
     "output_type": "display_data"
    },
    {
     "data": {
      "text/plain": [
       "(144079, 21)"
      ]
     },
     "metadata": {},
     "output_type": "display_data"
    },
    {
     "data": {
      "text/plain": [
       "team_id_b         category\n",
       "team_id_p         category\n",
       "inning               int64\n",
       "top                  int64\n",
       "at_bat_num           int64\n",
       "pcount_at_bat        int64\n",
       "pcount_pitcher       int64\n",
       "balls                int64\n",
       "strikes              int64\n",
       "fouls                int64\n",
       "outs                 int64\n",
       "batter_id         category\n",
       "stand             category\n",
       "b_height             int64\n",
       "pitcher_id        category\n",
       "p_throws          category\n",
       "away_team_runs       int64\n",
       "home_team_runs       int64\n",
       "on_1b             category\n",
       "on_2b             category\n",
       "on_3b             category\n",
       "dtype: object"
      ]
     },
     "metadata": {},
     "output_type": "display_data"
    }
   ],
   "source": [
    "display(X_calval.shape)\n",
    "display(X_holdout.shape)\n",
    "display(X_holdout.dtypes)"
   ]
  },
  {
   "cell_type": "code",
   "execution_count": 10,
   "metadata": {},
   "outputs": [
    {
     "data": {
      "text/plain": [
       "ColumnTransformer(n_jobs=None, remainder='drop', sparse_threshold=0.3,\n",
       "                  transformer_weights=None,\n",
       "                  transformers=[('cat',\n",
       "                                 OneHotEncoder(categorical_features=None,\n",
       "                                               categories=None, drop=None,\n",
       "                                               dtype=<class 'numpy.float64'>,\n",
       "                                               handle_unknown='ignore',\n",
       "                                               n_values=None, sparse=True),\n",
       "                                 ['batter_id', 'on_1b', 'on_2b', 'on_3b',\n",
       "                                  'pitcher_id', 'p_throws', 'stand',\n",
       "                                  'team_id_b', 'team_id_p']),\n",
       "                                ('num', PassthroughTransformer(),\n",
       "                                 ['at_bat_num', 'away_team_runs', 'b_height',\n",
       "                                  'balls', 'fouls', 'home_team_runs', 'inning',\n",
       "                                  'outs', 'pcount_at_bat', 'pcount_pitcher',\n",
       "                                  'strikes', 'top'])],\n",
       "                  verbose=False)"
      ]
     },
     "execution_count": 10,
     "metadata": {},
     "output_type": "execute_result"
    }
   ],
   "source": [
    "ct = cl.get_column_transformer(feature_type_map)\n",
    "ct.fit(X_calval)"
   ]
  },
  {
   "cell_type": "markdown",
   "metadata": {},
   "source": [
    "### The column transformer is fitted only on \"calval\" to avoid data leakage. This custom transformer ensures feature names are available for this mix of numerical and categorical features."
   ]
  },
  {
   "cell_type": "code",
   "execution_count": 11,
   "metadata": {},
   "outputs": [],
   "source": [
    "X_trans_calval = ct.transform(X_calval)\n",
    "X_trans_holdout = ct.transform(X_holdout)\n",
    "trans_feature_names = cl.get_feature_names(ct, feature_type_map)"
   ]
  },
  {
   "cell_type": "code",
   "execution_count": 12,
   "metadata": {},
   "outputs": [
    {
     "data": {
      "text/plain": [
       "(574882, 3648)"
      ]
     },
     "metadata": {},
     "output_type": "display_data"
    },
    {
     "data": {
      "text/plain": [
       "(144079, 3648)"
      ]
     },
     "metadata": {},
     "output_type": "display_data"
    },
    {
     "data": {
      "text/plain": [
       "['team_id_p_141',\n",
       " 'team_id_p_142',\n",
       " 'team_id_p_143',\n",
       " 'team_id_p_144',\n",
       " 'team_id_p_145',\n",
       " 'team_id_p_146',\n",
       " 'team_id_p_147',\n",
       " 'team_id_p_158',\n",
       " 'at_bat_num',\n",
       " 'away_team_runs',\n",
       " 'b_height',\n",
       " 'balls',\n",
       " 'fouls',\n",
       " 'home_team_runs',\n",
       " 'inning',\n",
       " 'outs',\n",
       " 'pcount_at_bat',\n",
       " 'pcount_pitcher',\n",
       " 'strikes']"
      ]
     },
     "metadata": {},
     "output_type": "display_data"
    }
   ],
   "source": [
    "display(X_trans_calval.shape)\n",
    "display(X_trans_holdout.shape)\n",
    "display(trans_feature_names[-20:-1])"
   ]
  },
  {
   "cell_type": "markdown",
   "metadata": {},
   "source": [
    "# Classification model R&D"
   ]
  },
  {
   "cell_type": "code",
   "execution_count": 13,
   "metadata": {},
   "outputs": [],
   "source": [
    "from time import time\n",
    "\n",
    "from sklearn.dummy import DummyClassifier\n",
    "from sklearn.ensemble import RandomForestClassifier\n",
    "from sklearn.feature_selection import SelectFromModel\n",
    "from sklearn.linear_model import LogisticRegression\n",
    "from sklearn.metrics import accuracy_score\n",
    "from sklearn.model_selection import GridSearchCV"
   ]
  },
  {
   "cell_type": "code",
   "execution_count": 14,
   "metadata": {},
   "outputs": [],
   "source": [
    "sample_size = int(5e4)\n",
    "random_row_indices = np.random.choice(X_trans_calval.shape[0], size=sample_size, replace=False)\n",
    "X_trans_calval_sample = X_trans_calval[random_row_indices,]\n",
    "y_calval_sample = y_calval[random_row_indices]"
   ]
  },
  {
   "cell_type": "markdown",
   "metadata": {},
   "source": [
    "### Some of the models I chose struggle with a data set this large on my laptop, so I took a random sample of rows of about 10% of the data set."
   ]
  },
  {
   "cell_type": "code",
   "execution_count": 15,
   "metadata": {},
   "outputs": [
    {
     "name": "stdout",
     "output_type": "stream",
     "text": [
      "Fit took 0.75 seconds.\n",
      "sample calval accuracy is 0.33.\n",
      "holdout accuracy is 0.34.\n"
     ]
    }
   ],
   "source": [
    "clf = DummyClassifier(strategy='most_frequent')\n",
    "start = time()\n",
    "clf.fit(X_trans_calval, y_calval)\n",
    "print(f\"Fit took {time() - start:.2f} seconds.\")\n",
    "\n",
    "accuracy = accuracy_score(y_calval, clf.predict(X_trans_calval))\n",
    "print(f\"sample calval accuracy is {accuracy:.2f}.\")\n",
    "accuracy = accuracy_score(y_holdout, clf.predict(X_trans_holdout))\n",
    "print(f\"holdout accuracy is {accuracy:.2f}.\")"
   ]
  },
  {
   "cell_type": "markdown",
   "metadata": {},
   "source": [
    "### As expected, a dummy classifier achieves 33% accuracy, so this is the benchmark to beat."
   ]
  },
  {
   "cell_type": "code",
   "execution_count": 16,
   "metadata": {},
   "outputs": [
    {
     "name": "stdout",
     "output_type": "stream",
     "text": [
      "Fit took 15.37 seconds.\n",
      "sample calval accuracy is 0.98.\n",
      "holdout accuracy is 0.38.\n",
      "most important features are:\n"
     ]
    },
    {
     "data": {
      "text/plain": [
       "array(['on_1b_0', 'at_bat_num', 'away_team_runs', 'b_height', 'balls',\n",
       "       'fouls', 'home_team_runs', 'inning', 'outs', 'pcount_at_bat',\n",
       "       'pcount_pitcher', 'strikes', 'top'], dtype='<U17')"
      ]
     },
     "metadata": {},
     "output_type": "display_data"
    }
   ],
   "source": [
    "clf = RandomForestClassifier(n_jobs=-1)\n",
    "start = time()\n",
    "clf.fit(X_trans_calval_sample, y_calval_sample)\n",
    "print(f\"Fit took {time() - start:.2f} seconds.\")\n",
    "\n",
    "accuracy = accuracy_score(y_calval_sample, clf.predict(X_trans_calval_sample))\n",
    "print(f\"sample calval accuracy is {accuracy:.2f}.\")\n",
    "accuracy = accuracy_score(y_holdout, clf.predict(X_trans_holdout))\n",
    "print(f\"holdout accuracy is {accuracy:.2f}.\")\n",
    "print(f\"most important features are:\")\n",
    "display(np.array(trans_feature_names)[list(clf.feature_importances_>0.01)])"
   ]
  },
  {
   "cell_type": "markdown",
   "metadata": {},
   "source": [
    "### A basic random forest overfits to the calval data set but achieves 38% on the holdout, so about 15% lift. Not bad for out the box settings on such a small sample."
   ]
  },
  {
   "cell_type": "code",
   "execution_count": 17,
   "metadata": {},
   "outputs": [
    {
     "name": "stdout",
     "output_type": "stream",
     "text": [
      "Fit took 97.11 seconds.\n",
      "sample calval accuracy is 0.54.\n",
      "holdout accuracy is 0.44.\n"
     ]
    }
   ],
   "source": [
    "clf = LogisticRegression(solver='liblinear', multi_class='ovr')\n",
    "start = time()\n",
    "clf.fit(X_trans_calval_sample, y_calval_sample)\n",
    "print(f\"Fit took {time() - start:.2f} seconds.\")\n",
    "\n",
    "accuracy = accuracy_score(y_calval_sample, clf.predict(X_trans_calval_sample))\n",
    "print(f\"sample calval accuracy is {accuracy:.2f}.\")\n",
    "accuracy = accuracy_score(y_holdout, clf.predict(X_trans_holdout))\n",
    "print(f\"holdout accuracy is {accuracy:.2f}.\")"
   ]
  },
  {
   "cell_type": "markdown",
   "metadata": {},
   "source": [
    "### A basic logistic regression with some regularization overfits less than the random forest and get 44% accuracy, so about 33% lift. I'll investigate this model further."
   ]
  },
  {
   "cell_type": "code",
   "execution_count": 18,
   "metadata": {},
   "outputs": [
    {
     "name": "stdout",
     "output_type": "stream",
     "text": [
      "GridSearchCV took 364.97 seconds for 3 candidate parameter settings.\n"
     ]
    },
    {
     "data": {
      "text/plain": [
       "{'mean_fit_time': array([24.64520156, 42.75359654, 65.32481992]),\n",
       " 'std_fit_time': array([0.31587851, 0.03793955, 1.14612997]),\n",
       " 'mean_score_time': array([0.07792902, 0.0768826 , 0.07793546]),\n",
       " 'std_score_time': array([0.00181508, 0.00072241, 0.00463152]),\n",
       " 'param_C': masked_array(data=[0.1, 1, 10],\n",
       "              mask=[False, False, False],\n",
       "        fill_value='?',\n",
       "             dtype=object),\n",
       " 'params': [{'C': 0.1}, {'C': 1}, {'C': 10}],\n",
       " 'split0_test_score': array([0.43411318, 0.44679064, 0.42839432]),\n",
       " 'split1_test_score': array([0.43356671, 0.44964993, 0.43316663]),\n",
       " 'mean_test_score': array([0.43384, 0.44822, 0.43078]),\n",
       " 'std_test_score': array([0.00027323, 0.00142964, 0.00238616]),\n",
       " 'rank_test_score': array([2, 1, 3], dtype=int32)}"
      ]
     },
     "metadata": {},
     "output_type": "display_data"
    }
   ],
   "source": [
    "clf = LogisticRegression(solver='liblinear', multi_class='ovr')\n",
    "param_grid = {'C': [0.1, 1, 10]}\n",
    "grid_search = GridSearchCV(clf, param_grid=param_grid, cv=2)\n",
    "start = time()\n",
    "grid_search.fit(X_trans_calval_sample, y_calval_sample)\n",
    "n_param_sets = len(grid_search.cv_results_['params'])\n",
    "print(f\"GridSearchCV took {time() - start:.2f} seconds for {n_param_sets:d} candidate parameter settings.\")\n",
    "display(grid_search.cv_results_)"
   ]
  },
  {
   "cell_type": "markdown",
   "metadata": {},
   "source": [
    "### Grid search on the regularization hyperparameter and twofold cross validation show consistent results with the out of the box settings for Logistic Regression and yield accuracy of 45%, consistent with the prior experiment.\n",
    "\n",
    "### The model has thousands of features and does not scale well, so I will retrain the model using only the most important features using all the calval data set."
   ]
  },
  {
   "cell_type": "code",
   "execution_count": 19,
   "metadata": {},
   "outputs": [
    {
     "name": "stdout",
     "output_type": "stream",
     "text": [
      "Fit took 102.61 seconds.\n",
      "(574882, 100)\n",
      "Fit took 124.76 seconds.\n",
      "calval accuracy is 0.41.\n",
      "holdout accuracy is 0.40.\n"
     ]
    }
   ],
   "source": [
    "sfm = SelectFromModel(estimator=grid_search.best_estimator_, threshold='mean', max_features=100)\n",
    "start = time()\n",
    "sfm.fit(X_trans_calval_sample, y_calval_sample)\n",
    "print(f\"Fit took {time() - start:.2f} seconds.\")\n",
    "X_trans_calval_subset_features = sfm.transform(X_trans_calval)\n",
    "X_trans_holdout_subset_features = sfm.transform(X_trans_holdout)\n",
    "print(X_trans_calval_subset_features.shape)\n",
    "\n",
    "clf = LogisticRegression(solver='liblinear', multi_class='ovr')\n",
    "start = time()\n",
    "clf.fit(X_trans_calval_subset_features, y_calval)\n",
    "print(f\"Fit took {time() - start:.2f} seconds.\")\n",
    "\n",
    "accuracy = accuracy_score(y_calval, clf.predict(X_trans_calval_subset_features))\n",
    "print(f\"calval accuracy is {accuracy:.2f}.\")\n",
    "accuracy = accuracy_score(y_holdout, clf.predict(X_trans_holdout_subset_features))\n",
    "print(f\"holdout accuracy is {accuracy:.2f}.\")"
   ]
  },
  {
   "cell_type": "markdown",
   "metadata": {},
   "source": [
    "### Training logistic regression using only 100 of the transformed features results in holdout accuracy of 40% and lift of 20%."
   ]
  },
  {
   "cell_type": "code",
   "execution_count": 20,
   "metadata": {},
   "outputs": [
    {
     "name": "stdout",
     "output_type": "stream",
     "text": [
      "Fit took 130.91 seconds.\n",
      "(574882, 300)\n",
      "Fit took 407.06 seconds.\n",
      "calval accuracy is 0.46.\n",
      "holdout accuracy is 0.44.\n"
     ]
    }
   ],
   "source": [
    "sfm = SelectFromModel(estimator=grid_search.best_estimator_, threshold='mean', max_features=300)\n",
    "start = time()\n",
    "sfm.fit(X_trans_calval_sample, y_calval_sample)\n",
    "print(f\"Fit took {time() - start:.2f} seconds.\")\n",
    "X_trans_calval_subset_features = sfm.transform(X_trans_calval)\n",
    "X_trans_holdout_subset_features = sfm.transform(X_trans_holdout)\n",
    "print(X_trans_calval_subset_features.shape)\n",
    "\n",
    "clf = LogisticRegression(solver='liblinear', multi_class='ovr')\n",
    "start = time()\n",
    "clf.fit(X_trans_calval_subset_features, y_calval)\n",
    "print(f\"Fit took {time() - start:.2f} seconds.\")\n",
    "\n",
    "accuracy = accuracy_score(y_calval, clf.predict(X_trans_calval_subset_features))\n",
    "print(f\"calval accuracy is {accuracy:.2f}.\")\n",
    "accuracy = accuracy_score(y_holdout, clf.predict(X_trans_holdout_subset_features))\n",
    "print(f\"holdout accuracy is {accuracy:.2f}.\")"
   ]
  },
  {
   "cell_type": "markdown",
   "metadata": {},
   "source": [
    "### Training logistic regression using only 300 of the transformed features results in holdout accuracy of 44% and lift of 33%."
   ]
  },
  {
   "cell_type": "markdown",
   "metadata": {},
   "source": [
    "# Conclusion\n",
    "\n",
    "### Model selection should balance the need for model performance and computational resource requirements, along with deployability. For this reason, I propose the best model is the Logistic Regression trained using only the top 300 features and would deploy this fitted model. \n",
    "\n",
    "### Balancing the trade-offs between development time, training time, and other performance metrics would require further economic data such as cost of inaccurate predictions and entry to market delays."
   ]
  },
  {
   "cell_type": "code",
   "execution_count": 21,
   "metadata": {},
   "outputs": [],
   "source": [
    "import pickle\n",
    "\n",
    "# save the settings used to pickle file for use in deploy\n",
    "model_metadata = {\n",
    "    'hyperparameters': {'C': 1},\n",
    "    'sample_size': int(5e4),\n",
    "    'max_features': 300\n",
    "}\n",
    "with open('model_metadata.pkl', 'wb') as fh:\n",
    "    pickle.dump(model_metadata, fh, protocol=pickle.HIGHEST_PROTOCOL)"
   ]
  }
 ],
 "metadata": {
  "kernelspec": {
   "display_name": "Python 3",
   "language": "python",
   "name": "python3"
  },
  "language_info": {
   "codemirror_mode": {
    "name": "ipython",
    "version": 3
   },
   "file_extension": ".py",
   "mimetype": "text/x-python",
   "name": "python",
   "nbconvert_exporter": "python",
   "pygments_lexer": "ipython3",
   "version": "3.7.4"
  }
 },
 "nbformat": 4,
 "nbformat_minor": 4
}
